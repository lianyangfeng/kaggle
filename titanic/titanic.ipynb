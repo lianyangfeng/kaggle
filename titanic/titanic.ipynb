{
 "cells": [
  {
   "cell_type": "code",
   "execution_count": 181,
   "metadata": {
    "collapsed": false
   },
   "outputs": [],
   "source": [
    "import numpy as np\n",
    "import pandas as pd\n",
    "import math\n",
    "import matplotlib.pyplot as plt\n",
    "from IPython.display import display\n",
    "from sklearn.utils import shuffle\n",
    "%matplotlib inline\n",
    "cols = [1, 2, 4, 5, 6, 7, 9, 11]\n",
    "data = pd.read_csv('train.csv', usecols=cols, true_values=['male'], false_values=['female'])\n",
    "data = data.join(pd.get_dummies(data['Embarked'], prefix='Embarked'))\n",
    "del data['Embarked']\n",
    "data = shuffle(data)\n",
    "data = data.astype('float')\n",
    "data.fillna(0, inplace=True)\n",
    "data['Age_2'] = data['Age']**2\n",
    "y = data.pop('Survived')\n",
    "m = len(y)\n",
    "y_train, X_train = y[:int(0.6*m)], data[:int(0.6*m)]\n",
    "y_val, X_val = y[int(0.6*m):int(0.8*m)], data[int(0.6*m):int(0.8*m)]\n",
    "y_test, X_test = y[int(0.8*m):], data[int(0.8*m):]\n",
    "theta = np.random.rand(X_test.shape[1])"
   ]
  },
  {
   "cell_type": "code",
   "execution_count": 175,
   "metadata": {
    "collapsed": false
   },
   "outputs": [],
   "source": [
    "def J_function(X, y, theta, alpha, l):\n",
    "    h_theta_x = "
   ]
  },
  {
   "cell_type": "code",
   "execution_count": 182,
   "metadata": {
    "collapsed": false
   },
   "outputs": [
    {
     "data": {
      "text/plain": [
       "array([ 0.37850551,  0.17222867,  0.76317897,  0.55314559,  0.21185357,\n",
       "        0.29949949,  0.20193853,  0.8830372 ,  0.94337815,  0.36761217])"
      ]
     },
     "execution_count": 182,
     "metadata": {},
     "output_type": "execute_result"
    }
   ],
   "source": [
    "theta"
   ]
  },
  {
   "cell_type": "code",
   "execution_count": null,
   "metadata": {
    "collapsed": true
   },
   "outputs": [],
   "source": []
  }
 ],
 "metadata": {
  "anaconda-cloud": {},
  "kernelspec": {
   "display_name": "Python [default]",
   "language": "python",
   "name": "python3"
  },
  "language_info": {
   "codemirror_mode": {
    "name": "ipython",
    "version": 3
   },
   "file_extension": ".py",
   "mimetype": "text/x-python",
   "name": "python",
   "nbconvert_exporter": "python",
   "pygments_lexer": "ipython3",
   "version": "3.5.2"
  }
 },
 "nbformat": 4,
 "nbformat_minor": 1
}
